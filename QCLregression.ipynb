{
 "cells": [
  {
   "cell_type": "code",
   "execution_count": 25,
   "metadata": {
    "executionInfo": {
     "elapsed": 6237,
     "status": "ok",
     "timestamp": 1602396188531,
     "user": {
      "displayName": "小林将大",
      "photoUrl": "",
      "userId": "09749743800546995434"
     },
     "user_tz": -540
    },
    "id": "KcNRMNqzeXgn"
   },
   "outputs": [],
   "source": [
    "import numpy as np\n",
    "import matplotlib.pyplot as plt\n",
    "from qiskit import *\n",
    "from scipy.optimize import minimize\n",
    "from copy import deepcopy\n",
    "import time\n",
    "from qiskit.aqua.operators import WeightedPauliOperator, MatrixOperator\n",
    "from qiskit.quantum_info import Pauli\n",
    "from qiskit import QuantumRegister, ClassicalRegister, QuantumCircuit\n",
    "import random\n",
    "from qiskit.compiler import transpile\n",
    "from qiskit.circuit import Parameter\n",
    "from qiskit.aqua.components.optimizers import ADAM\n",
    "import warnings"
   ]
  },
  {
   "cell_type": "code",
   "execution_count": 26,
   "metadata": {},
   "outputs": [],
   "source": [
    "warnings.simplefilter(\"ignore\")"
   ]
  },
  {
   "cell_type": "code",
   "execution_count": null,
   "metadata": {
    "id": "keEOAZEom1NR"
   },
   "outputs": [],
   "source": [
    "# global変数の宣言"
   ]
  },
  {
   "cell_type": "code",
   "execution_count": 27,
   "metadata": {
    "executionInfo": {
     "elapsed": 945,
     "status": "ok",
     "timestamp": 1602396463276,
     "user": {
      "displayName": "小林将大",
      "photoUrl": "",
      "userId": "09749743800546995434"
     },
     "user_tz": -540
    },
    "id": "r-5iFBEgm9qM"
   },
   "outputs": [],
   "source": [
    "nqubit = 2\n",
    "depth = 1"
   ]
  },
  {
   "cell_type": "code",
   "execution_count": 28,
   "metadata": {
    "executionInfo": {
     "elapsed": 886,
     "status": "ok",
     "timestamp": 1602396194651,
     "user": {
      "displayName": "小林将大",
      "photoUrl": "",
      "userId": "09749743800546995434"
     },
     "user_tz": -540
    },
    "id": "2a5_ppEzm9vm"
   },
   "outputs": [],
   "source": [
    "# 結果を入れるhashmap\n",
    "d = {}"
   ]
  },
  {
   "cell_type": "code",
   "execution_count": null,
   "metadata": {
    "id": "syECFOPDei0e"
   },
   "outputs": [],
   "source": [
    "# ここで入力データを作成"
   ]
  },
  {
   "cell_type": "code",
   "execution_count": 29,
   "metadata": {
    "colab": {
     "base_uri": "https://localhost:8080/",
     "height": 265
    },
    "executionInfo": {
     "elapsed": 862,
     "status": "ok",
     "timestamp": 1602396206670,
     "user": {
      "displayName": "小林将大",
      "photoUrl": "",
      "userId": "09749743800546995434"
     },
     "user_tz": -540
    },
    "id": "xl7AkW_CnmLT",
    "outputId": "f2e50581-8f09-4df2-eeca-044b2390c319"
   },
   "outputs": [
    {
     "data": {
      "image/png": "[encoded data removed]",
      "text/plain": [
       "<Figure size 432x288 with 1 Axes>"
      ]
     },
     "metadata": {
      "needs_background": "light"
     },
     "output_type": "display_data"
    }
   ],
   "source": [
    "########  パラメータ  #############\n",
    "## [x_min, x_max]のうち, ランダムにnum_x_train個の点をとって教師データとする.\n",
    "x_min = - 1.; x_max = 1.;\n",
    "num_x_train = 50\n",
    "num_x_test = 50\n",
    "\n",
    "## 学習したい1変数関数\n",
    "func_to_learn = lambda x: np.sin(x*np.pi)\n",
    "func_to_learn1 = lambda x:np.abs(x)\n",
    "func_to_learn2 = lambda x:x\n",
    "func_to_learn3 = lambda x:np.exp(x)\n",
    "func_to_learn4 = lambda x:np.cos(np.pi*x)\n",
    "func_to_learn5 = lambda x:x**2\n",
    "\n",
    "## 乱数のシード\n",
    "random_seed = 3\n",
    "## 乱数発生器の初期化\n",
    "np.random.seed(random_seed)\n",
    "### 教師データを準備\n",
    "x_train = np.linspace(-1,1,50)\n",
    "y_train = func_to_learn(x_train)\n",
    "\n",
    "# 現実のデータを用いる場合を想定し、きれいなsin関数にノイズを付加\n",
    "mag_noise1 = 0.1\n",
    "y_train = y_train + mag_noise1 * np.random.randn(num_x_train)\n",
    "\n",
    "#テストデータの準備\n",
    "mag_noise2 = 0.1\n",
    "x_test = np.linspace(-1,1,50)\n",
    "y_test = func_to_learn(x_test) + mag_noise2 * np.random.randn(num_x_test)\n",
    "\n",
    "plt.plot(x_train, y_train, \"o\"); plt.show()"
   ]
  },
  {
   "cell_type": "code",
   "execution_count": 30,
   "metadata": {
    "id": "fMkDl8L-aF5y"
   },
   "outputs": [],
   "source": [
    "numTrainData = len(x_train)"
   ]
  },
  {
   "cell_type": "code",
   "execution_count": 31,
   "metadata": {
    "id": "XhMO-hwvaASt"
   },
   "outputs": [],
   "source": [
    "theta_list = [Parameter(str(i)) for i in range(3*nqubit*depth)]\n",
    "par =  np.random.normal(0,1/np.sqrt(numTrainData),3*nqubit*depth)"
   ]
  },
  {
   "cell_type": "code",
   "execution_count": 32,
   "metadata": {
    "id": "GtNgr9fhZ9Lm"
   },
   "outputs": [],
   "source": [
    "qc_map = {}  \n",
    "# x_train内のindex:対応するQuantumCircuitオブジェクト\n",
    "#これはdepthやnqubitを変えるたびに初期化する\n",
    "# テストデータに関しては1回ずつしか呼び出されないから特に保存しない"
   ]
  },
  {
   "cell_type": "code",
   "execution_count": 33,
   "metadata": {
    "executionInfo": {
     "elapsed": 809,
     "status": "ok",
     "timestamp": 1602396544447,
     "user": {
      "displayName": "小林将大",
      "photoUrl": "",
      "userId": "09749743800546995434"
     },
     "user_tz": -540
    },
    "id": "gx2vG2kCemg6"
   },
   "outputs": [],
   "source": [
    "#ここでハミルトニアンを作り、使いまわす\n",
    "pauli_list = []\n",
    "evo_time = 10\n",
    "# ΣaXに相当する部分をpauli_listに加える\n",
    "for i in range(nqubit):\n",
    "    a = random.uniform(-1,1)\n",
    "    x = np.array([False if j != i else True for j in range(nqubit)],dtype=bool)\n",
    "    z = np.array([False]*nqubit,dtype=bool)\n",
    "    pauli_list.append([a,Pauli(z,x)])\n",
    "# ΣJZZに相当する部分をpauli_listに加える\n",
    "for i in range(nqubit):\n",
    "    for k in range(i):\n",
    "        J = random.uniform(-1,1)\n",
    "        x = np.array([False]*nqubit,dtype=bool)\n",
    "        z = np.array([True if (j == i or j == k) else False for j in range(nqubit)],dtype=bool)\n",
    "        pauli_list.append([J,Pauli(z,x)])\n",
    "qubitOp = WeightedPauliOperator(paulis=pauli_list)"
   ]
  },
  {
   "cell_type": "code",
   "execution_count": 34,
   "metadata": {
    "executionInfo": {
     "elapsed": 829,
     "status": "ok",
     "timestamp": 1602396218788,
     "user": {
      "displayName": "小林将大",
      "photoUrl": "",
      "userId": "09749743800546995434"
     },
     "user_tz": -540
    },
    "id": "9O4hhce0epGs"
   },
   "outputs": [],
   "source": [
    "def U_in(x):    #入力xをエンコードするゲートが付いた回路（QuantumCircuit）を返す\n",
    "    # 入力が1次元か多次元化に応じて少しコードを変える\n",
    "    U = QuantumCircuit(nqubit)\n",
    "    for i in range(nqubit):\n",
    "        angle_y = np.arcsin(x)\n",
    "        angle_z = np.arccos(x**2)\n",
    "        U.ry(angle_y,[i])\n",
    "        U.rz(angle_z,[i])\n",
    "    \n",
    "    return U\n",
    "# 入力次元が1の場合でもリストで渡す必要がある"
   ]
  },
  {
   "cell_type": "code",
   "execution_count": 35,
   "metadata": {
    "executionInfo": {
     "elapsed": 514,
     "status": "ok",
     "timestamp": 1602396219686,
     "user": {
      "displayName": "小林将大",
      "photoUrl": "",
      "userId": "09749743800546995434"
     },
     "user_tz": -540
    },
    "id": "1aoOg4_xe9zb"
   },
   "outputs": [],
   "source": [
    "def ansatz(depth):  #入力パラメータ初期値のリスト、出力アンザッツが含まれた回路（QuantumCircuit）を返す\n",
    "    U = QuantumCircuit(nqubit)\n",
    "    U += qubitOp.evolve(\n",
    "    U, evo_time, num_time_slices=1,\n",
    "    expansion_mode='suzuki',\n",
    "    expansion_order=3\n",
    ")\n",
    "    \n",
    "    for i in range(nqubit):\n",
    "        U.rx(theta_list[(3*nqubit*depth)+i],i)\n",
    "    for i in range(nqubit):\n",
    "        U.rz(theta_list[(3*nqubit*depth)+i+nqubit],i)\n",
    "    for i in range(nqubit):\n",
    "        U.rx(theta_list[(3*nqubit*depth)+2*nqubit+i],i)\n",
    "    return U"
   ]
  },
  {
   "cell_type": "code",
   "execution_count": 36,
   "metadata": {
    "executionInfo": {
     "elapsed": 817,
     "status": "ok",
     "timestamp": 1602396221617,
     "user": {
      "displayName": "小林将大",
      "photoUrl": "",
      "userId": "09749743800546995434"
     },
     "user_tz": -540
    },
    "id": "fyt7fiV0ffOJ"
   },
   "outputs": [],
   "source": [
    "def getoutput(x,init_par):   #入力x(リスト)、出力yの予測値\n",
    "    # 入力が1次元なら(x,), 多次元ならtuple(x)とする\n",
    "    tupled_x = (x,)\n",
    "    if tupled_x in qc_map:\n",
    "        qc = qc_map[tupled_x]\n",
    "    else:\n",
    "        qc = U_in(x)\n",
    "        for i in range(depth):\n",
    "            qc += ansatz(i)\n",
    "        qc_map[tupled_x] = qc\n",
    "    backend = Aer.get_backend(\"statevector_simulator\")\n",
    "    job = execute(qc,backend,parameter_binds=[{theta_list[i]:init_par[i] for i in range(len(init_par))}])\n",
    "    counts = job.result().get_counts()\n",
    "    res = 0\n",
    "    for key in counts.keys():\n",
    "        if key[-1] == \"0\":\n",
    "            res += counts[key]\n",
    "        else:\n",
    "            res -= counts[key]\n",
    "    return 2*res\n",
    "#counts[i]にしないとresは０にしかならない"
   ]
  },
  {
   "cell_type": "code",
   "execution_count": 37,
   "metadata": {
    "executionInfo": {
     "elapsed": 824,
     "status": "ok",
     "timestamp": 1602396223242,
     "user": {
      "displayName": "小林将大",
      "photoUrl": "",
      "userId": "09749743800546995434"
     },
     "user_tz": -540
    },
    "id": "XI_LF7MChCo4"
   },
   "outputs": [],
   "source": [
    "def cost_func_helper(x,y,par):\n",
    "    y_pred = getoutput(x,par)\n",
    "    return 0.5 * ((y - y_pred)**2)"
   ]
  },
  {
   "cell_type": "code",
   "execution_count": 38,
   "metadata": {
    "executionInfo": {
     "elapsed": 497,
     "status": "ok",
     "timestamp": 1602396224339,
     "user": {
      "displayName": "小林将大",
      "photoUrl": "",
      "userId": "09749743800546995434"
     },
     "user_tz": -540
    },
    "id": "ANArXUakhgnJ"
   },
   "outputs": [],
   "source": [
    "def cost_func(par):\n",
    "    res = 0\n",
    "    for x,y in zip(x_train,y_train):\n",
    "        res += cost_func_helper(x,y,par)\n",
    "    return res"
   ]
  },
  {
   "cell_type": "code",
   "execution_count": 39,
   "metadata": {
    "executionInfo": {
     "elapsed": 505,
     "status": "ok",
     "timestamp": 1602396225698,
     "user": {
      "displayName": "小林将大",
      "photoUrl": "",
      "userId": "09749743800546995434"
     },
     "user_tz": -540
    },
    "id": "ZLhVqTHPpgrc"
   },
   "outputs": [],
   "source": [
    "def gene_error(par):\n",
    "    # 現在のパラメータ値がparの時のテストデータに対するコスト関数の値を返す\n",
    "    res = 0\n",
    "    for x,y in zip(x_test,y_test):\n",
    "        res += cost_func_helper(x,y,par)\n",
    "    return res"
   ]
  },
  {
   "cell_type": "code",
   "execution_count": 45,
   "metadata": {},
   "outputs": [],
   "source": [
    "def deriv_func(par):\n",
    "    res = []\n",
    "    n = len(par)\n",
    "    data = it.next()  # このデータだけを使って勾配を求める\n",
    "    numdata = len(data)  # バッチサイズと同じ\n",
    "    x_data = [data[i][0] for i in range(numdata)]  # data[i] = (x,y)というタプルなのでxのみ取り出す\n",
    "    y_pred = [getoutput(x,par) for x in x_data]\n",
    "    for i in range(n):\n",
    "        temp = 0\n",
    "        for j in range(numdata):\n",
    "            x,y = data[j][0],data[j][1]\n",
    "            temp += (y_pred[j] - y) * compute_gradient1(x,par,i)\n",
    "        res.append(temp)\n",
    "    res = np.array(res)\n",
    "    return res"
   ]
  },
  {
   "cell_type": "code",
   "execution_count": 41,
   "metadata": {
    "executionInfo": {
     "elapsed": 777,
     "status": "ok",
     "timestamp": 1602397995787,
     "user": {
      "displayName": "小林将大",
      "photoUrl": "",
      "userId": "09749743800546995434"
     },
     "user_tz": -540
    },
    "id": "7EOpqc5pW6D2"
   },
   "outputs": [],
   "source": [
    "def compute_gradient1(x,par,i):\n",
    "    par[i] += np.pi/2\n",
    "    b_plus = getoutput(x,par)\n",
    "    par[i] -= np.pi/2\n",
    "    par[i] -= np.pi/2\n",
    "    b_minus = getoutput(x,par)\n",
    "    par[i] += np.pi/2\n",
    "    return (b_plus - b_minus)/2"
   ]
  },
  {
   "cell_type": "code",
   "execution_count": 42,
   "metadata": {},
   "outputs": [],
   "source": [
    "class Iterator:\n",
    "    def __init__(self,x,y,batch_size):\n",
    "        self.x = x_train   # 訓練データの入力、ndarray\n",
    "        self.y = y_train   # 訓練データの出力、ddarray\n",
    "        self.batch_size = batch_size  # バッチサイズ(1以上)\n",
    "        self.index = 0  # データ内のどのindexを見ているかを保持する\n",
    "        self.indices = list(range(len(x_train)))  # この配列を適宜シャッフルする\n",
    "        \n",
    "    def next(self):   # バッチサイズ分のデータをリストに入れて変えす、途中でデータを見終わったらシャッフルする\n",
    "        res = []\n",
    "        for _ in range(self.batch_size):\n",
    "            nx = self.x[self.indices[self.index]]\n",
    "            ny = self.y[self.indices[self.index]]\n",
    "            res.append((nx,ny))\n",
    "            self.index += 1\n",
    "            if self.index == len(self.x):\n",
    "                self.index = 0\n",
    "                np.random.shuffle(self.indices)\n",
    "        res = np.array(res)\n",
    "        return res"
   ]
  },
  {
   "cell_type": "code",
   "execution_count": null,
   "metadata": {
    "id": "LfLqDo8YmV7R"
   },
   "outputs": [],
   "source": [
    "# ここから学習"
   ]
  },
  {
   "cell_type": "code",
   "execution_count": null,
   "metadata": {},
   "outputs": [],
   "source": [
    "start = time.time()\n",
    "adam = ADAM(maxiter = 10)\n",
    "it = Iterator(x = x_train,y = y_train,batch_size = 1)\n",
    "par,mincost,_ = adam.minimize(cost_func,par,deriv_func)  # (最適パラメータ、その時のコスト関数値、イテレーション数)を返す\n",
    "d[depth] = d.get(depth,[]) + [(par,mincost,gene_error(par))]  # (最適パラメータ、その時のコスト関数値、その時のテストデータに対するコスト関数値)を保存\n",
    "\n",
    "process_time = time.time() - start\n",
    "\n",
    "print(d[depth])\n",
    "print(process_time)"
   ]
  },
  {
   "cell_type": "code",
   "execution_count": null,
   "metadata": {},
   "outputs": [],
   "source": []
  },
  {
   "cell_type": "code",
   "execution_count": null,
   "metadata": {},
   "outputs": [],
   "source": [
    "# ここから結果の解釈(結果の図示や情報量の計算を行う)"
   ]
  },
  {
   "cell_type": "code",
   "execution_count": null,
   "metadata": {},
   "outputs": [],
   "source": [
    "# プロットしたいときには以下を実行すればよい\n",
    "plt.figure(figsize=(10, 6))\n",
    "\n",
    "xlist = np.arange(x_min, x_max, 0.02)\n",
    "\n",
    "# 教師データ\n",
    "plt.plot(x_train, y_train, \"o\", label='Teacher')\n",
    "\n",
    "# モデルの予測値\n",
    "y_pred = np.array([getoutput(x,par) for x in xlist])\n",
    "plt.plot(xlist, y_pred, label='Final Model Prediction')\n",
    "\n",
    "plt.legend()\n",
    "plt.show()"
   ]
  }
 ],
 "metadata": {
  "colab": {
   "authorship_tag": "ABX9TyMl1MUtzfu4Wgd/UNgBIZX+",
   "collapsed_sections": [],
   "name": "QCLregression.ipynb",
   "provenance": []
  },
  "kernelspec": {
   "display_name": "Python 3",
   "language": "python",
   "name": "python3"
  },
  "language_info": {
   "codemirror_mode": {
    "name": "ipython",
    "version": 3
   },
   "file_extension": ".py",
   "mimetype": "text/x-python",
   "name": "python",
   "nbconvert_exporter": "python",
   "pygments_lexer": "ipython3",
   "version": "3.7.7"
  }
 },
 "nbformat": 4,
 "nbformat_minor": 1
}
