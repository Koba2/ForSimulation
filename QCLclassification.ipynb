{
 "cells": [
  {
   "cell_type": "code",
   "execution_count": null,
   "metadata": {
    "id": "TUVyLNWstg08"
   },
   "outputs": [],
   "source": [
    "import numpy as np\n",
    "import matplotlib.pyplot as plt\n",
    "from qiskit import *\n",
    "from scipy.optimize import minimize\n",
    "from copy import deepcopy\n",
    "from sklearn import datasets\n",
    "from sklearn.preprocessing import MinMaxScaler\n",
    "from qiskit.aqua.operators import WeightedPauliOperator, MatrixOperator\n",
    "from qiskit.quantum_info import Pauli\n",
    "from qiskit import QuantumRegister, ClassicalRegister, QuantumCircuit\n",
    "import random\n",
    "from qiskit.compiler import transpile\n",
    "from qiskit.circuit import Parameter\n",
    "import time\n",
    "from sklearn.model_selection import train_test_split\n",
    "from sklearn.decomposition import PCA\n",
    "from qiskit.aqua.components.optimizers import ADAM\n",
    "import warnings"
   ]
  },
  {
   "cell_type": "code",
   "execution_count": null,
   "metadata": {
    "id": "fl2Q3f1utg1B"
   },
   "outputs": [],
   "source": [
    "warnings.simplefilter(\"ignore\")"
   ]
  },
  {
   "cell_type": "code",
   "execution_count": null,
   "metadata": {},
   "outputs": [],
   "source": [
    "# global変数の宣言"
   ]
  },
  {
   "cell_type": "code",
   "execution_count": null,
   "metadata": {
    "id": "INb41chetg1E"
   },
   "outputs": [],
   "source": [
    "#入力xは多次元(n)で出力yはクラスラベル(onehot encoding)、qubit数はとりあえずnにする\n",
    "num_class = 2\n",
    "nqubit = 3\n",
    "depth = 1"
   ]
  },
  {
   "cell_type": "code",
   "execution_count": null,
   "metadata": {},
   "outputs": [],
   "source": [
    "# 結果を入れるhashmap\n",
    "d = {}"
   ]
  },
  {
   "cell_type": "code",
   "execution_count": null,
   "metadata": {},
   "outputs": [],
   "source": [
    "# ここで入力データを作成"
   ]
  },
  {
   "cell_type": "code",
   "execution_count": null,
   "metadata": {
    "id": "PjwujhV_uMIE"
   },
   "outputs": [],
   "source": [
    "def make_data(num,r,seed,mag_noise=0):\n",
    "    ## 乱数のシード\n",
    "    random_seed = seed\n",
    "    ## 乱数発生器の初期化\n",
    "    np.random.seed(random_seed)\n",
    "    array = []\n",
    "    theta = np.linspace(0.5,2*np.pi,num)\n",
    "    noise = np.random.randn(num)\n",
    "    for i in range(num):\n",
    "        radius = r + mag_noise * noise[i]\n",
    "        a,b = radius*np.cos(theta[i]),radius*np.sin(theta[i])\n",
    "        array.append([a,b])\n",
    "    array = np.array(array)\n",
    "    return array"
   ]
  },
  {
   "cell_type": "code",
   "execution_count": null,
   "metadata": {
    "id": "bZw6xo-FuRYq"
   },
   "outputs": [],
   "source": [
    "x_train = np.vstack((make_data(15,0.8,8,0.05),make_data(14,0.5,0,0.05))) #0.95にしておけば範囲外に出ることはなくなると思う\n",
    "y_train = np.hstack((np.array([0]*15),np.array([1]*14)))\n",
    "\n",
    "x_test = np.vstack((make_data(15,0.8,0),make_data(14,0.5,0)))\n",
    "y_test = np.hstack((np.array([0]*15),np.array([1]*14)))"
   ]
  },
  {
   "cell_type": "code",
   "execution_count": null,
   "metadata": {
    "id": "7Ie9VgyJaS4A"
   },
   "outputs": [],
   "source": [
    "# 次元削減している\n",
    "pca = PCA(n_components=12)\n",
    "wine = datasets.load_wine()\n",
    "x,y = wine.data[:120],wine.target[:120]\n",
    "x = pca.fit_transform(x)\n",
    "x_train,x_test,y_train,y_test = train_test_split(x,y,test_size=0.3,random_state=0)"
   ]
  },
  {
   "cell_type": "code",
   "execution_count": null,
   "metadata": {
    "id": "H34w_c17tg1P"
   },
   "outputs": [],
   "source": [
    "#これは正規化が必要な時に行う、一応やったほうが安全？\n",
    "mn = MinMaxScaler(feature_range=(-1,1),copy = True)\n",
    "x_train = mn.fit_transform(x_train)\n",
    "x_test = mn.fit_transform(x_test)\n",
    "\n",
    "x_train[x_train < -1] = -1\n",
    "x_train[x_train > 1] = 1\n",
    "x_test[x_test < -1] = -1\n",
    "x_test[x_test > 1] = 1"
   ]
  },
  {
   "cell_type": "code",
   "execution_count": null,
   "metadata": {},
   "outputs": [],
   "source": [
    "# x_train = (訓練データ数、入力次元数)、y_train = (訓練データ数)"
   ]
  },
  {
   "cell_type": "code",
   "execution_count": null,
   "metadata": {},
   "outputs": [],
   "source": []
  },
  {
   "cell_type": "code",
   "execution_count": null,
   "metadata": {
    "id": "PtFPDDHVrUcm"
   },
   "outputs": [],
   "source": [
    "numTrainData = len(x_train)  # 訓練データ数\n",
    "numdim = len(x_train[0])  # 入力次元数"
   ]
  },
  {
   "cell_type": "code",
   "execution_count": null,
   "metadata": {},
   "outputs": [],
   "source": [
    "theta_list = [Parameter(str(i)) for i in range(3*nqubit*depth)]\n",
    "par =  np.random.normal(0,1/np.sqrt(numTrainData),3*nqubit*depth)"
   ]
  },
  {
   "cell_type": "code",
   "execution_count": null,
   "metadata": {},
   "outputs": [],
   "source": [
    "qc_map = {}  \n",
    "# x_train内のindex:対応するQuantumCircuitオブジェクト\n",
    "#これはdepthやnqubitを変えるたびに初期化する\n",
    "# テストデータに関しては1回ずつしか呼び出されないから特に保存しない"
   ]
  },
  {
   "cell_type": "code",
   "execution_count": null,
   "metadata": {
    "id": "Qkgs6Qawtg1U"
   },
   "outputs": [],
   "source": [
    "#ここでハミルトニアンを作り、使いまわす\n",
    "pauli_list = []\n",
    "nqubit = 3\n",
    "evo_time = 10\n",
    "# ΣaXに相当する部分をpauli_listに加える\n",
    "for i in range(nqubit):\n",
    "    a = random.uniform(-1,1)\n",
    "    x = np.array([False if j != i else True for j in range(nqubit)],dtype=bool)\n",
    "    z = np.array([False]*nqubit,dtype=bool)\n",
    "    pauli_list.append([a,Pauli(z,x)])\n",
    "# ΣJZZに相当する部分をpauli_listに加える\n",
    "for i in range(nqubit):\n",
    "    for k in range(i):\n",
    "        J = random.uniform(-1,1)\n",
    "        x = np.array([False]*nqubit,dtype=bool)\n",
    "        z = np.array([True if (j == i or j == k) else False for j in range(nqubit)],dtype=bool)\n",
    "        pauli_list.append([J,Pauli(z,x)])\n",
    "qubitOp = WeightedPauliOperator(paulis=pauli_list)"
   ]
  },
  {
   "cell_type": "code",
   "execution_count": null,
   "metadata": {
    "id": "q35XMuVltg1W"
   },
   "outputs": [],
   "source": [
    "def U_in(x):    #入力x(list, n dimension)、出力xをエンコードするゲートが付いた回路（QuantumCircuit）を返す\n",
    "    U = QuantumCircuit(nqubit)\n",
    "    for i in range(nqubit):\n",
    "        angle_y = np.arcsin(x[i%numdim])\n",
    "        angle_z = np.arccos(x[i%numdim]**2)\n",
    "        U.ry(angle_y,[i])\n",
    "        U.rz(angle_z,[i])\n",
    "    \n",
    "    return U"
   ]
  },
  {
   "cell_type": "code",
   "execution_count": null,
   "metadata": {
    "id": "Sj84nvINtg1Y"
   },
   "outputs": [],
   "source": [
    "def ansatz(depth):  #入力パラメータ初期値のリスト、出力アンザッツが含まれた回路（QuantumCircuit）を返す\n",
    "    U = QuantumCircuit(nqubit)\n",
    "    U += qubitOp.evolve(\n",
    "    U, evo_time, num_time_slices=1,\n",
    "    expansion_mode='suzuki',\n",
    "    expansion_order=3\n",
    ")\n",
    "    \n",
    "    for i in range(nqubit):\n",
    "        U.rx(theta_list[(3*nqubit*depth)+i],i)\n",
    "    for i in range(nqubit):\n",
    "        U.rz(theta_list[(3*nqubit*depth)+i+nqubit],i)\n",
    "    for i in range(nqubit):\n",
    "        U.rx(theta_list[(3*nqubit*depth)+2*nqubit+i],i)\n",
    "    return U"
   ]
  },
  {
   "cell_type": "code",
   "execution_count": null,
   "metadata": {
    "id": "1XvW61Ehtg1a"
   },
   "outputs": [],
   "source": [
    "def getoutput(x,init_par):   #入力x、出力yの予測値\n",
    "    tupled_x = tuple(x)\n",
    "    if tupled_x in qc_map:\n",
    "        qc = qc_map[tupled_x]\n",
    "    else:\n",
    "        qc = U_in(x)\n",
    "        for i in range(depth):\n",
    "            qc += ansatz(i)\n",
    "        qc_map[tupled_x] = qc\n",
    "    \n",
    "    backend = Aer.get_backend(\"statevector_simulator\")\n",
    "    job = execute(qc,backend,parameter_binds=[{theta_list[i]:init_par[i] for i in range(len(init_par))}])\n",
    "    counts = job.result().get_counts()  #countsは{基底状態ベクトル:その状態になった回数}が入ってる\n",
    "    res = [0]*num_class\n",
    "    for i in range(num_class):\n",
    "        for key in counts:\n",
    "            if key[nqubit-i-1] == \"0\":\n",
    "                res[i] += counts[key]\n",
    "            else:\n",
    "                res[i] -= counts[key]\n",
    "    res = np.array(res)\n",
    "    return res   #res[i] = <Z_i>, iは上位i番目のqubitということを表す(0-indexed)"
   ]
  },
  {
   "cell_type": "code",
   "execution_count": null,
   "metadata": {
    "id": "TvCJvKb9tg1c"
   },
   "outputs": [],
   "source": [
    "def softmax(x):  #xはndarrayじゃなきゃだめ\n",
    "    max_x = np.max(x)\n",
    "    exp_x = np.exp(x-max_x)\n",
    "    return exp_x / np.sum(exp_x)"
   ]
  },
  {
   "cell_type": "code",
   "execution_count": null,
   "metadata": {},
   "outputs": [],
   "source": [
    "def cost_func_helper(x,y,par):\n",
    "    outputs = getoutput(x,par)  # 期待値のリスト\n",
    "    noutputs = softmax(outputs) # それにソフトマックス関数をかけた後のリスト\n",
    "    return -np.log(noutputs[y])"
   ]
  },
  {
   "cell_type": "code",
   "execution_count": null,
   "metadata": {},
   "outputs": [],
   "source": [
    "def cost_func(par):\n",
    "    res = 0\n",
    "    for x,y in zip(x_train,y_train):\n",
    "        res += cost_func_helper(x,y,par)\n",
    "    return res"
   ]
  },
  {
   "cell_type": "code",
   "execution_count": null,
   "metadata": {},
   "outputs": [],
   "source": [
    "def gene_error(par):\n",
    "    # 現在のパラメータ値がparの時のテストデータに対するコスト関数の値を返す\n",
    "    res = 0\n",
    "    for x,y in zip(x_test,y_test):\n",
    "        res += cost_func_helper(x,y,par)\n",
    "    return res"
   ]
  },
  {
   "cell_type": "code",
   "execution_count": null,
   "metadata": {},
   "outputs": [],
   "source": [
    "def deriv_func(par):\n",
    "    res = []\n",
    "    n = len(par)\n",
    "    data = it.next()  # このデータだけを使って勾配を求める\n",
    "    numdata = len(data)  # バッチサイズと同じ\n",
    "    x_data = [data[i][0] for i in range(numdata)]  # data[i] = (x,y)というタプルなのでxのみ取り出す\n",
    "    y_pred = [getoutput(x,par) for x in x_data]\n",
    "    for i in range(n):\n",
    "        temp = 0\n",
    "        for j in range(numdata):\n",
    "            x,y = data[j][0],data[j][1]\n",
    "            temp += (y_pred[j] - y) * compute_gradient1(x,par,i)\n",
    "        res.append(temp)\n",
    "    res = np.array(res)\n",
    "    return res"
   ]
  },
  {
   "cell_type": "code",
   "execution_count": null,
   "metadata": {},
   "outputs": [],
   "source": [
    "def compute_gradient1(x,par,i):\n",
    "    par[i] += np.pi/2\n",
    "    b_plus = getoutput(x,par)\n",
    "    par[i] -= np.pi/2\n",
    "    par[i] -= np.pi/2\n",
    "    b_minus = getoutput(x,par)\n",
    "    par[i] += np.pi/2\n",
    "    return (b_plus - b_minus)/2"
   ]
  },
  {
   "cell_type": "code",
   "execution_count": null,
   "metadata": {},
   "outputs": [],
   "source": [
    "class Iterator:\n",
    "    def __init__(self,x,y,batch_size):\n",
    "        self.x = x_train   # 訓練データの入力、ndarray\n",
    "        self.y = y_train   # 訓練データの出力、ddarray\n",
    "        self.batch_size = batch_size  # バッチサイズ(1以上)\n",
    "        self.index = 0  # データ内のどのindexを見ているかを保持する\n",
    "        self.indices = list(range(len(x_train)))  # この配列を適宜シャッフルする\n",
    "        \n",
    "    def next(self):   # バッチサイズ分のデータをリストに入れて変えす、途中でデータを見終わったらシャッフルする\n",
    "        res = []\n",
    "        for _ in range(self.batch_size):\n",
    "            nx = self.x[self.indices[self.index]]\n",
    "            ny = self.y[self.indices[self.index]]\n",
    "            res.append((nx,ny))\n",
    "            self.index += 1\n",
    "            if self.index == len(self.x):\n",
    "                self.index = 0\n",
    "                np.random.shuffle(self.indices)\n",
    "        res = np.array(res)\n",
    "        return res"
   ]
  },
  {
   "cell_type": "code",
   "execution_count": null,
   "metadata": {},
   "outputs": [],
   "source": [
    "# ここから学習"
   ]
  },
  {
   "cell_type": "code",
   "execution_count": null,
   "metadata": {},
   "outputs": [],
   "source": [
    "start = time.time()\n",
    "adam = ADAM(maxiter = 10)\n",
    "it = Iterator(x = x_train,y = y_train,batch_size = 1)\n",
    "par,mincost,_ = adam.minimize(cost_func,par,deriv_func)  # (最適パラメータ、その時のコスト関数値、イテレーション数)を返す\n",
    "d[depth] = d.get(depth,[]) + [(par,mincost,gene_error(par))]  # (最適パラメータ、その時のコスト関数値、その時のテストデータに対するコスト関数値)を保存\n",
    "\n",
    "process_time = time.time() - start\n",
    "\n",
    "print(d[depth])\n",
    "print(process_time)"
   ]
  },
  {
   "cell_type": "code",
   "execution_count": null,
   "metadata": {},
   "outputs": [],
   "source": []
  },
  {
   "cell_type": "code",
   "execution_count": null,
   "metadata": {},
   "outputs": [],
   "source": [
    "# ここから結果の解釈(結果の図示や情報量の計算を行う)"
   ]
  },
  {
   "cell_type": "code",
   "execution_count": null,
   "metadata": {
    "id": "jYahzXYZtg1l"
   },
   "outputs": [],
   "source": [
    "def compute_gradient1(loss,x,y,theta,num):\n",
    "    #loss: 使うloss関数、x,y:i番目のデータ,theta:今のパラメータベクトル,num: 何番目のパラメータについて偏微分をとるか\n",
    "    #出力は勾配ベクトル\n",
    "    h = 1e-4\n",
    "    theta1,theta2 = theta.copy(),theta.copy()\n",
    "    theta1[num] += h\n",
    "    theta2[num] -= h\n",
    "    return (loss(x,y,theta1)-loss(x,y,theta2))/(2*h)"
   ]
  },
  {
   "cell_type": "code",
   "execution_count": null,
   "metadata": {
    "id": "2OTw-RD5vYx1"
   },
   "outputs": [],
   "source": [
    "start = time.time()\n",
    "par = SGD(par,loss_func)\n",
    "d[depth] = d.get(depth,[]) + [(par,D_ast(par,loss_func),gene_error(par,loss_func))]\n",
    "process_time = time.time() - start\n",
    "\n",
    "print(d[depth])\n",
    "print(process_time)"
   ]
  },
  {
   "cell_type": "code",
   "execution_count": null,
   "metadata": {
    "id": "y76vgzcztg18"
   },
   "outputs": [],
   "source": []
  },
  {
   "cell_type": "code",
   "execution_count": null,
   "metadata": {
    "id": "phj3top1tg1-"
   },
   "outputs": [],
   "source": [
    "def predict(x,par):   #入力x、最適化したパラメータ、出力yの予測クラスラベル\n",
    "    tupled_x = tuple(x)\n",
    "    if tupled_x in qc_map:\n",
    "        qc = qc_map[tupled_x]\n",
    "    else:\n",
    "        qc = U_in(x)\n",
    "        for i in range(depth):\n",
    "            qc += ansatz(i)\n",
    "        qc_map[tupled_x] = qc\n",
    "    backend = Aer.get_backend(\"statevector_simulator\")\n",
    "    job = execute(qc,backend,parameter_binds=[{theta_list[i]:par[i] for i in range(len(par))}])\n",
    "    counts = job.result().get_counts()  #countsは{基底状態ベクトル:その状態になった回数}が入ってる\n",
    "    res = [0]*num_class\n",
    "    for i in range(num_class):\n",
    "        for key in counts:\n",
    "            if key[nqubit-i-1] == \"0\":\n",
    "                res[i] += counts[key]\n",
    "            else:\n",
    "                res[i] -= counts[key]\n",
    "    res = np.array(res)\n",
    "    res = softmax(res)\n",
    "    res = list(res)\n",
    "    return res.index(max(res))   #res[i] = <Z_i>にソフトマックス関数を掛けた値(iは上位i番目のqubitということを表す)"
   ]
  },
  {
   "cell_type": "code",
   "execution_count": null,
   "metadata": {
    "id": "hgXVF3_xtg2B"
   },
   "outputs": [],
   "source": [
    "def plot_decision_regions(par):\n",
    "    x1_min,x1_max = x_train[:,0].min()-0.5,x_train[:,0].max()+0.5\n",
    "    x2_min,x2_max = x_train[:,1].min()-0.5,x_train[:,1].max()+0.5\n",
    "    xx1,xx2 = np.meshgrid(np.arange(x1_min,x1_max,0.08),\n",
    "                         np.arange(x2_min,x2_max,0.08))\n",
    "    points = np.array([xx1.ravel(),xx2.ravel()]).T\n",
    "    z = []\n",
    "    for i,j in points:\n",
    "        z.append(predict([i,j],par))\n",
    "    z = np.array(z)\n",
    "    z = z.reshape(xx1.shape)\n",
    "    \n",
    "    plt.contourf(xx1,xx2,z,alpha = 0.3)\n",
    "    plt.xlim(-1.3,1.3)\n",
    "    plt.ylim(-1.3,1.3)\n",
    "    \n",
    "    for i in range(len(x_train)):\n",
    "        if y_train[i]== 0:\n",
    "            plt.scatter(x_train[i][0],x_train[i][1],color = \"red\")\n",
    "        else:\n",
    "            plt.scatter(x_train[i][0],x_train[i][1],color = \"blue\") "
   ]
  },
  {
   "cell_type": "code",
   "execution_count": null,
   "metadata": {
    "id": "nHnYffUsvjC-"
   },
   "outputs": [],
   "source": [
    "def plot_decision_regions2(par):\n",
    "    x1_min,x1_max = x_train[:,0].min()-0.5,x_train[:,0].max()+0.5\n",
    "    x2_min,x2_max = x_train[:,1].min()-0.5,x_train[:,1].max()+0.5\n",
    "    xx1,xx2 = np.meshgrid(np.arange(x1_min,x1_max,0.08),\n",
    "                         np.arange(x2_min,x2_max,0.08))\n",
    "    points = np.array([xx1.ravel(),xx2.ravel()]).T\n",
    "    z = []\n",
    "    for i,j in points:\n",
    "        z.append(predict([i,j],par))\n",
    "    z = np.array(z)\n",
    "    z = z.reshape(xx1.shape)\n",
    "    \n",
    "    plt.contourf(xx1,xx2,z,alpha = 0.3)\n",
    "    plt.xlim(-1.3,1.3)\n",
    "    plt.ylim(-1.3,1.3)\n",
    "    \n",
    "    for i in range(len(x_test)):\n",
    "        if y_test[i]== 0:\n",
    "            plt.scatter(x_test[i][0],x_test[i][1],color = \"red\")\n",
    "        else:\n",
    "            plt.scatter(x_test[i][0],x_test[i][1],color = \"blue\") "
   ]
  },
  {
   "cell_type": "code",
   "execution_count": null,
   "metadata": {
    "colab": {
     "base_uri": "https://localhost:8080/",
     "height": 265
    },
    "executionInfo": {
     "elapsed": 70695,
     "status": "ok",
     "timestamp": 1590812796166,
     "user": {
      "displayName": "小林将大",
      "photoUrl": "",
      "userId": "09749743800546995434"
     },
     "user_tz": -540
    },
    "id": "-8nR3g9Ctg2C",
    "outputId": "7e359498-3f8d-4833-de16-acb7bccb9fa3"
   },
   "outputs": [
    {
     "data": {
      "image/png": "[encoded data removed]",
      "text/plain": [
       "<Figure size 432x288 with 1 Axes>"
      ]
     },
     "metadata": {
      "needs_background": "light",
      "tags": []
     },
     "output_type": "display_data"
    }
   ],
   "source": [
    "plot_decision_regions(par)"
   ]
  },
  {
   "cell_type": "code",
   "execution_count": null,
   "metadata": {
    "id": "mpBzateVtg2E"
   },
   "outputs": [],
   "source": []
  }
 ],
 "metadata": {
  "colab": {
   "collapsed_sections": [],
   "name": "NIC_simulation_classification_statevector-ising.ipynb",
   "provenance": []
  },
  "kernelspec": {
   "display_name": "Python 3",
   "language": "python",
   "name": "python3"
  },
  "language_info": {
   "codemirror_mode": {
    "name": "ipython",
    "version": 3
   },
   "file_extension": ".py",
   "mimetype": "text/x-python",
   "name": "python",
   "nbconvert_exporter": "python",
   "pygments_lexer": "ipython3",
   "version": "3.7.7"
  }
 },
 "nbformat": 4,
 "nbformat_minor": 1
}
