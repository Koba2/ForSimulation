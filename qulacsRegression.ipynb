{
 "cells": [
  {
   "cell_type": "code",
   "execution_count": 3,
   "metadata": {
    "executionInfo": {
     "elapsed": 6237,
     "status": "ok",
     "timestamp": 1602396188531,
     "user": {
      "displayName": "小林将大",
      "photoUrl": "",
      "userId": "09749743800546995434"
     },
     "user_tz": -540
    },
    "id": "KcNRMNqzeXgn"
   },
   "outputs": [],
   "source": [
    "import numpy as np\n",
    "import matplotlib.pyplot as plt\n",
    "import time\n",
    "import random\n",
    "from qiskit.aqua.components.optimizers import ADAM\n",
    "import warnings\n",
    "from sklearn import datasets\n",
    "from sklearn.model_selection import train_test_split\n",
    "from sklearn.preprocessing import MinMaxScaler\n",
    "from qulacs import QuantumCircuit\n",
    "from qulacs import QuantumState\n",
    "from qulacs import Observable\n",
    "from qulacs import ParametricQuantumCircuit"
   ]
  },
  {
   "cell_type": "code",
   "execution_count": null,
   "metadata": {},
   "outputs": [],
   "source": [
    "# https://dojo.qulacs.org/ja/latest/notebooks/5.2_Quantum_Circuit_Learning.html\n",
    "# https://github.com/qulacs/quantum-native-dojo/blob/master/notebooks/qcl_classification.py\n",
    "# の2つを参考にした"
   ]
  },
  {
   "cell_type": "code",
   "execution_count": null,
   "metadata": {},
   "outputs": [],
   "source": [
    "# getoutputとU_inは入力次元に応じて書き換えるしかない"
   ]
  },
  {
   "cell_type": "code",
   "execution_count": null,
   "metadata": {
    "id": "keEOAZEom1NR"
   },
   "outputs": [],
   "source": [
    "# global変数の宣言"
   ]
  },
  {
   "cell_type": "code",
   "execution_count": 4,
   "metadata": {
    "executionInfo": {
     "elapsed": 945,
     "status": "ok",
     "timestamp": 1602396463276,
     "user": {
      "displayName": "小林将大",
      "photoUrl": "",
      "userId": "09749743800546995434"
     },
     "user_tz": -540
    },
    "id": "r-5iFBEgm9qM"
   },
   "outputs": [],
   "source": [
    "nqubit = 3\n",
    "depth = 3"
   ]
  },
  {
   "cell_type": "code",
   "execution_count": 31,
   "metadata": {
    "executionInfo": {
     "elapsed": 886,
     "status": "ok",
     "timestamp": 1602396194651,
     "user": {
      "displayName": "小林将大",
      "photoUrl": "",
      "userId": "09749743800546995434"
     },
     "user_tz": -540
    },
    "id": "2a5_ppEzm9vm"
   },
   "outputs": [],
   "source": [
    "# 結果を入れるhashmap\n",
    "d = {}"
   ]
  },
  {
   "cell_type": "code",
   "execution_count": 32,
   "metadata": {},
   "outputs": [],
   "source": [
    "obs = Observable(nqubit)\n",
    "obs.add_operator(2.,\"Z 0\")  # これで2 * <Z_0>を計算してくれる、グローバル変数として1つのみ作る"
   ]
  },
  {
   "cell_type": "code",
   "execution_count": null,
   "metadata": {
    "id": "syECFOPDei0e"
   },
   "outputs": [],
   "source": [
    "# ここで入力データを作成"
   ]
  },
  {
   "cell_type": "code",
   "execution_count": 7,
   "metadata": {
    "colab": {
     "base_uri": "https://localhost:8080/",
     "height": 265
    },
    "executionInfo": {
     "elapsed": 862,
     "status": "ok",
     "timestamp": 1602396206670,
     "user": {
      "displayName": "小林将大",
      "photoUrl": "",
      "userId": "09749743800546995434"
     },
     "user_tz": -540
    },
    "id": "xl7AkW_CnmLT",
    "outputId": "f2e50581-8f09-4df2-eeca-044b2390c319"
   },
   "outputs": [
    {
     "data": {
      "image/png": "[encoded data removed]",
      "text/plain": [
       "<Figure size 432x288 with 1 Axes>"
      ]
     },
     "metadata": {
      "needs_background": "light"
     },
     "output_type": "display_data"
    }
   ],
   "source": [
    "########  パラメータ  #############\n",
    "## [x_min, x_max]のうち, ランダムにnum_x_train個の点をとって教師データとする.\n",
    "x_min = - 1.; x_max = 1.;\n",
    "num_x_train = 50\n",
    "num_x_test = 20\n",
    "\n",
    "## 学習したい1変数関数\n",
    "func_to_learn = lambda x: np.sin(x*np.pi)\n",
    "func_to_learn1 = lambda x:np.abs(x)\n",
    "func_to_learn2 = lambda x:x\n",
    "func_to_learn3 = lambda x:np.exp(x)\n",
    "func_to_learn4 = lambda x:np.cos(np.pi*x)\n",
    "func_to_learn5 = lambda x:x**2\n",
    "\n",
    "## 乱数のシード\n",
    "random_seed = 3\n",
    "## 乱数発生器の初期化\n",
    "np.random.seed(random_seed)\n",
    "### 教師データを準備\n",
    "x_train = np.linspace(-1,1,50)\n",
    "y_train = func_to_learn(x_train)\n",
    "\n",
    "# 現実のデータを用いる場合を想定し、きれいなsin関数にノイズを付加\n",
    "mag_noise1 = 0.1\n",
    "y_train = y_train + mag_noise1 * np.random.randn(num_x_train)\n",
    "\n",
    "#テストデータの準備\n",
    "mag_noise2 = 0.1\n",
    "x_test = np.linspace(-1,1,20)\n",
    "y_test = func_to_learn(x_test) + mag_noise2 * np.random.randn(num_x_test)\n",
    "\n",
    "plt.plot(x_train, y_train, \"o\"); plt.show()"
   ]
  },
  {
   "cell_type": "code",
   "execution_count": 165,
   "metadata": {},
   "outputs": [],
   "source": [
    "boston = datasets.load_boston()\n",
    "x,y = boston.data[:200,:],boston.target[:200]  # カラム0,5、上から200データを使用する、ここは自由\n",
    "x_train,x_test,y_train,y_test = train_test_split(x,y,test_size=0.3,random_state=0)"
   ]
  },
  {
   "cell_type": "code",
   "execution_count": 166,
   "metadata": {},
   "outputs": [],
   "source": [
    "#これは正規化が必要な時に行う、一応やったほうが安全？\n",
    "mn = MinMaxScaler(feature_range=(-1,1),copy = True)\n",
    "x_train = mn.fit_transform(x_train)\n",
    "x_test = mn.fit_transform(x_test)\n",
    "\n",
    "x_train[x_train < -1] = -1\n",
    "x_train[x_train > 1] = 1\n",
    "x_test[x_test < -1] = -1\n",
    "x_test[x_test > 1] = 1"
   ]
  },
  {
   "cell_type": "code",
   "execution_count": 8,
   "metadata": {
    "id": "fMkDl8L-aF5y"
   },
   "outputs": [],
   "source": [
    "numTrainData = len(x_train)"
   ]
  },
  {
   "cell_type": "code",
   "execution_count": 168,
   "metadata": {},
   "outputs": [],
   "source": [
    "numdim = len(x_train[0])"
   ]
  },
  {
   "cell_type": "code",
   "execution_count": 33,
   "metadata": {
    "id": "GtNgr9fhZ9Lm"
   },
   "outputs": [],
   "source": [
    "qc_map = {}  \n",
    "# x_train内のindex:対応するQuantumCircuitオブジェクト(ただしU(x)のみ保存している点がqiskitと違う)\n",
    "#これはdepthやnqubitを変えるたびに初期化する\n",
    "# テストデータに関しては1回ずつしか呼び出されないから特に保存しない"
   ]
  },
  {
   "cell_type": "code",
   "execution_count": 28,
   "metadata": {
    "executionInfo": {
     "elapsed": 829,
     "status": "ok",
     "timestamp": 1602396218788,
     "user": {
      "displayName": "小林将大",
      "photoUrl": "",
      "userId": "09749743800546995434"
     },
     "user_tz": -540
    },
    "id": "9O4hhce0epGs"
   },
   "outputs": [],
   "source": [
    "def U_in(x):    #入力xをエンコードするゲートが付いた回路（QuantumCircuit）を返す\n",
    "    # 入力が1次元か多次元化に応じて少しコードを変える\n",
    "    U = QuantumCircuit(nqubit)\n",
    "    for i in range(nqubit):\n",
    "        angle_y = np.arcsin(x)\n",
    "        angle_z = np.arccos(x**2)\n",
    "        U.add_RY_gate(i,angle_y)\n",
    "        U.add_RZ_gate(i,angle_z)\n",
    "    \n",
    "    return U\n",
    "# 入力次元が1の場合でもリストで渡す必要がある"
   ]
  },
  {
   "cell_type": "code",
   "execution_count": 11,
   "metadata": {},
   "outputs": [],
   "source": [
    "def createInitialHEA(depth):  # ansatzに相当する部分のオブジェクトを作る、これはグローバル変数として1つのみ作る\n",
    "    U = ParametricQuantumCircuit(nqubit)\n",
    "    for d in range(depth):\n",
    "        for i in range(nqubit):\n",
    "            U.add_parametric_RY_gate(i, 2*np.pi*np.random.rand())\n",
    "            U.add_parametric_RZ_gate(i, 2*np.pi*np.random.rand())\n",
    "        for i in range(nqubit-1):\n",
    "            U.add_CNOT_gate(i,i+1)\n",
    "    return U"
   ]
  },
  {
   "cell_type": "code",
   "execution_count": 24,
   "metadata": {
    "executionInfo": {
     "elapsed": 817,
     "status": "ok",
     "timestamp": 1602396221617,
     "user": {
      "displayName": "小林将大",
      "photoUrl": "",
      "userId": "09749743800546995434"
     },
     "user_tz": -540
    },
    "id": "fyt7fiV0ffOJ"
   },
   "outputs": [],
   "source": [
    "def getoutput(x,init_par):   #入力x(リスト)、出力yの予測値\n",
    "    # 入力が1次元なら(x,), 多次元ならtuple(x)とする\n",
    "    tupled_x = (x,)\n",
    "    if tupled_x in qc_map:\n",
    "        U_In = qc_map[tupled_x]\n",
    "    else:\n",
    "        U_In = U_in(x)\n",
    "        qc_map[tupled_x] = U_In\n",
    "        \n",
    "    state = QuantumState(nqubit)\n",
    "    state.set_zero_state()\n",
    "    \n",
    "    U_In.update_quantum_state(state)\n",
    "    U_out.update_quantum_state(state)\n",
    "    res = obs.get_expectation_value(state)\n",
    "    return res"
   ]
  },
  {
   "cell_type": "code",
   "execution_count": 13,
   "metadata": {
    "executionInfo": {
     "elapsed": 824,
     "status": "ok",
     "timestamp": 1602396223242,
     "user": {
      "displayName": "小林将大",
      "photoUrl": "",
      "userId": "09749743800546995434"
     },
     "user_tz": -540
    },
    "id": "XI_LF7MChCo4"
   },
   "outputs": [],
   "source": [
    "def cost_func_helper(x,y,par):\n",
    "    y_pred = getoutput(x,par)\n",
    "    return 0.5 * ((y - y_pred)**2)"
   ]
  },
  {
   "cell_type": "code",
   "execution_count": 14,
   "metadata": {
    "executionInfo": {
     "elapsed": 497,
     "status": "ok",
     "timestamp": 1602396224339,
     "user": {
      "displayName": "小林将大",
      "photoUrl": "",
      "userId": "09749743800546995434"
     },
     "user_tz": -540
    },
    "id": "ANArXUakhgnJ"
   },
   "outputs": [],
   "source": [
    "def cost_func(par):\n",
    "    res = 0\n",
    "    for x,y in zip(x_train,y_train):\n",
    "        res += cost_func_helper(x,y,par)\n",
    "    return res"
   ]
  },
  {
   "cell_type": "code",
   "execution_count": 15,
   "metadata": {
    "executionInfo": {
     "elapsed": 505,
     "status": "ok",
     "timestamp": 1602396225698,
     "user": {
      "displayName": "小林将大",
      "photoUrl": "",
      "userId": "09749743800546995434"
     },
     "user_tz": -540
    },
    "id": "ZLhVqTHPpgrc"
   },
   "outputs": [],
   "source": [
    "def gene_error(par):\n",
    "    # 現在のパラメータ値がparの時のテストデータに対するコスト関数の値を返す\n",
    "    res = 0\n",
    "    for x,y in zip(x_test,y_test):\n",
    "        res += cost_func_helper(x,y,par)\n",
    "    return res"
   ]
  },
  {
   "cell_type": "code",
   "execution_count": 16,
   "metadata": {},
   "outputs": [],
   "source": [
    "def deriv_func(par):\n",
    "    res = []\n",
    "    n = len(par)\n",
    "    data = it.next()  # このデータだけを使って勾配を求める\n",
    "    numdata = len(data)  # バッチサイズと同じ\n",
    "    x_data = [data[i][0] for i in range(numdata)]  # data[i] = (x,y)というタプルなのでxのみ取り出す\n",
    "    y_pred = [getoutput(x,par) for x in x_data]\n",
    "    for i in range(n):\n",
    "        temp = 0\n",
    "        for j in range(numdata):\n",
    "            x,y = data[j][0],data[j][1]\n",
    "            temp += (y_pred[j] - y) * compute_gradient1(x,par,i)\n",
    "        res.append(temp)\n",
    "    res = np.array(res)\n",
    "    return res"
   ]
  },
  {
   "cell_type": "code",
   "execution_count": 17,
   "metadata": {
    "executionInfo": {
     "elapsed": 777,
     "status": "ok",
     "timestamp": 1602397995787,
     "user": {
      "displayName": "小林将大",
      "photoUrl": "",
      "userId": "09749743800546995434"
     },
     "user_tz": -540
    },
    "id": "7EOpqc5pW6D2"
   },
   "outputs": [],
   "source": [
    "def compute_gradient1(x,par,i):\n",
    "    par[i] += np.pi/2\n",
    "    b_plus = getoutput(x,par)\n",
    "    par[i] -= np.pi/2\n",
    "    par[i] -= np.pi/2\n",
    "    b_minus = getoutput(x,par)\n",
    "    par[i] += np.pi/2\n",
    "    return (b_plus - b_minus)/2"
   ]
  },
  {
   "cell_type": "code",
   "execution_count": 18,
   "metadata": {},
   "outputs": [],
   "source": [
    "class Iterator:\n",
    "    def __init__(self,x,y,batch_size):\n",
    "        self.x = x_train   # 訓練データの入力、ndarray\n",
    "        self.y = y_train   # 訓練データの出力、ddarray\n",
    "        self.batch_size = batch_size  # バッチサイズ(1以上)\n",
    "        self.index = 0  # データ内のどのindexを見ているかを保持する\n",
    "        self.indices = list(range(len(x_train)))  # この配列を適宜シャッフルする\n",
    "        \n",
    "    def next(self):   # バッチサイズ分のデータをリストに入れて変えす、途中でデータを見終わったらシャッフルする\n",
    "        res = []\n",
    "        for _ in range(self.batch_size):\n",
    "            nx = self.x[self.indices[self.index]]\n",
    "            ny = self.y[self.indices[self.index]]\n",
    "            res.append((nx,ny))\n",
    "            self.index += 1\n",
    "            if self.index == len(self.x):\n",
    "                self.index = 0\n",
    "                np.random.shuffle(self.indices)\n",
    "        res = np.array(res)\n",
    "        return res"
   ]
  },
  {
   "cell_type": "code",
   "execution_count": null,
   "metadata": {
    "id": "LfLqDo8YmV7R"
   },
   "outputs": [],
   "source": [
    "# ここから学習"
   ]
  },
  {
   "cell_type": "code",
   "execution_count": 34,
   "metadata": {},
   "outputs": [],
   "source": [
    "U_out = createInitialHEA(depth)  # これもグローバルに1つのみ\n",
    "parameter_count = U_out.get_parameter_count()\n",
    "par = [U_out.get_parameter(i) for i in range(parameter_count)]  # これが初期パラメータ値を持ったリスト"
   ]
  },
  {
   "cell_type": "code",
   "execution_count": 35,
   "metadata": {},
   "outputs": [],
   "source": [
    "adam = ADAM(maxiter = 100)\n",
    "it = Iterator(x = x_train,y = y_train,batch_size = 20)"
   ]
  },
  {
   "cell_type": "code",
   "execution_count": 36,
   "metadata": {},
   "outputs": [
    {
     "name": "stdout",
     "output_type": "stream",
     "text": [
      "[(array([0.60046401, 5.25847405, 3.35983828, 4.86926639, 1.45038703,\n",
      "       6.065117  , 4.71884374, 2.15572233, 5.95977497, 4.40144532,\n",
      "       5.28140106, 0.285868  , 0.34960611, 4.66675592, 1.91440132,\n",
      "       3.24705193, 0.98182576, 6.14465621]), 32.80919052410563, 13.664784439956508)]\n",
      "0.04285454750061035\n"
     ]
    }
   ],
   "source": [
    "start = time.time()\n",
    "\n",
    "par,mincost,_ = adam.minimize(cost_func,par,deriv_func)  # (最適パラメータ、その時のコスト関数値、イテレーション数)を返す\n",
    "d[depth] = d.get(depth,[]) + [(par,mincost,gene_error(par))]  # (最適パラメータ、その時のコスト関数値、その時のテストデータに対するコスト関数値)を保存\n",
    "\n",
    "process_time = time.time() - start\n",
    "\n",
    "print(d[depth])\n",
    "print(process_time)"
   ]
  },
  {
   "cell_type": "code",
   "execution_count": null,
   "metadata": {},
   "outputs": [],
   "source": [
    "# ここから結果の解釈(結果の図示や情報量の計算を行う)"
   ]
  },
  {
   "cell_type": "code",
   "execution_count": 37,
   "metadata": {},
   "outputs": [
    {
     "data": {
      "image/png": "[encoded data removed]",
      "text/plain": [
       "<Figure size 720x432 with 1 Axes>"
      ]
     },
     "metadata": {
      "needs_background": "light"
     },
     "output_type": "display_data"
    }
   ],
   "source": [
    "# プロットしたいときには以下を実行すればよい\n",
    "plt.figure(figsize=(10, 6))\n",
    "\n",
    "xlist = np.arange(x_min, x_max, 0.02)\n",
    "\n",
    "# 教師データ\n",
    "plt.plot(x_train, y_train, \"o\", label='Teacher')\n",
    "\n",
    "# モデルの予測値\n",
    "y_pred = np.array([getoutput(x,par) for x in xlist])\n",
    "plt.plot(xlist, y_pred, label='Final Model Prediction')\n",
    "\n",
    "plt.legend()\n",
    "plt.show()"
   ]
  },
  {
   "cell_type": "code",
   "execution_count": null,
   "metadata": {},
   "outputs": [],
   "source": []
  }
 ],
 "metadata": {
  "colab": {
   "authorship_tag": "ABX9TyMl1MUtzfu4Wgd/UNgBIZX+",
   "collapsed_sections": [],
   "name": "QCLregression.ipynb",
   "provenance": []
  },
  "kernelspec": {
   "display_name": "Python 3",
   "language": "python",
   "name": "python3"
  },
  "language_info": {
   "codemirror_mode": {
    "name": "ipython",
    "version": 3
   },
   "file_extension": ".py",
   "mimetype": "text/x-python",
   "name": "python",
   "nbconvert_exporter": "python",
   "pygments_lexer": "ipython3",
   "version": "3.7.7"
  }
 },
 "nbformat": 4,
 "nbformat_minor": 1
}
