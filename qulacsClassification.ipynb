{
 "cells": [
  {
   "cell_type": "code",
   "execution_count": 2,
   "metadata": {
    "executionInfo": {
     "elapsed": 6237,
     "status": "ok",
     "timestamp": 1602396188531,
     "user": {
      "displayName": "小林将大",
      "photoUrl": "",
      "userId": "09749743800546995434"
     },
     "user_tz": -540
    },
    "id": "KcNRMNqzeXgn"
   },
   "outputs": [],
   "source": [
    "import numpy as np\n",
    "import matplotlib.pyplot as plt\n",
    "import time\n",
    "import random\n",
    "from qiskit.aqua.components.optimizers import ADAM\n",
    "import warnings\n",
    "from sklearn import datasets\n",
    "from sklearn.model_selection import train_test_split\n",
    "from sklearn.preprocessing import MinMaxScaler\n",
    "from qulacs import QuantumCircuit\n",
    "from qulacs import QuantumState\n",
    "from qulacs import Observable\n",
    "from qulacs import ParametricQuantumCircuit\n",
    "from qulacs.gate import X, Z\n",
    "from qulacs.gate import DenseMatrix\n",
    "from functools import reduce\n",
    "from scipy.optimize import minimize"
   ]
  },
  {
   "cell_type": "code",
   "execution_count": null,
   "metadata": {},
   "outputs": [],
   "source": [
    "# https://dojo.qulacs.org/ja/latest/notebooks/5.2_Quantum_Circuit_Learning.html\n",
    "# https://github.com/qulacs/quantum-native-dojo/blob/master/notebooks/qcl_classification.py\n",
    "# の2つを参考にした"
   ]
  },
  {
   "cell_type": "code",
   "execution_count": null,
   "metadata": {},
   "outputs": [],
   "source": [
    "# getoutputとU_inは入力次元に応じて書き換えるしかない"
   ]
  },
  {
   "cell_type": "code",
   "execution_count": null,
   "metadata": {
    "id": "keEOAZEom1NR"
   },
   "outputs": [],
   "source": [
    "# global変数の宣言"
   ]
  },
  {
   "cell_type": "code",
   "execution_count": 92,
   "metadata": {
    "executionInfo": {
     "elapsed": 945,
     "status": "ok",
     "timestamp": 1602396463276,
     "user": {
      "displayName": "小林将大",
      "photoUrl": "",
      "userId": "09749743800546995434"
     },
     "user_tz": -540
    },
    "id": "r-5iFBEgm9qM"
   },
   "outputs": [],
   "source": [
    "nqubit = 6\n",
    "depth = 6\n",
    "num_class = 2"
   ]
  },
  {
   "cell_type": "code",
   "execution_count": 93,
   "metadata": {
    "executionInfo": {
     "elapsed": 886,
     "status": "ok",
     "timestamp": 1602396194651,
     "user": {
      "displayName": "小林将大",
      "photoUrl": "",
      "userId": "09749743800546995434"
     },
     "user_tz": -540
    },
    "id": "2a5_ppEzm9vm"
   },
   "outputs": [],
   "source": [
    "# 結果を入れるhashmap\n",
    "d = {}"
   ]
  },
  {
   "cell_type": "code",
   "execution_count": 94,
   "metadata": {},
   "outputs": [],
   "source": [
    "obs = [Observable(nqubit) for _ in range(num_class)]\n",
    "for i in range(num_class):\n",
    "    obs[i].add_operator(1.,f\"Z {i}\")"
   ]
  },
  {
   "cell_type": "code",
   "execution_count": 95,
   "metadata": {
    "id": "syECFOPDei0e"
   },
   "outputs": [],
   "source": [
    "# ここで入力データを作成"
   ]
  },
  {
   "cell_type": "code",
   "execution_count": 96,
   "metadata": {},
   "outputs": [
    {
     "data": {
      "image/png": "[encoded data removed]",
      "text/plain": [
       "<Figure size 432x288 with 1 Axes>"
      ]
     },
     "metadata": {
      "needs_background": "light"
     },
     "output_type": "display_data"
    }
   ],
   "source": [
    "# iris data\n",
    "iris = datasets.load_iris()\n",
    "x,y = iris.data[:100,[0,2]],iris.target[:100]\n",
    "x_train,x_test,y_train,y_test = train_test_split(x,y,test_size=0.3,random_state=0)\n",
    "for i in range(len(x_train)):\n",
    "    if y_train[i] == 0:\n",
    "        plt.scatter(x_train[i][0],x_train[i][1],color = \"red\")\n",
    "    elif y_train[i] == 1:\n",
    "        plt.scatter(x_train[i][0],x_train[i][1],color = \"blue\")"
   ]
  },
  {
   "cell_type": "code",
   "execution_count": 97,
   "metadata": {},
   "outputs": [],
   "source": [
    "#これは正規化が必要な時に行う、一応やったほうが安全？\n",
    "mn = MinMaxScaler(feature_range=(-1,1),copy = True)\n",
    "x_train = mn.fit_transform(x_train)\n",
    "x_test = mn.fit_transform(x_test)\n",
    "\n",
    "x_train[x_train < -1] = -1\n",
    "x_train[x_train > 1] = 1\n",
    "x_test[x_test < -1] = -1\n",
    "x_test[x_test > 1] = 1"
   ]
  },
  {
   "cell_type": "code",
   "execution_count": 98,
   "metadata": {
    "id": "fMkDl8L-aF5y"
   },
   "outputs": [],
   "source": [
    "numTrainData = len(x_train)"
   ]
  },
  {
   "cell_type": "code",
   "execution_count": 99,
   "metadata": {},
   "outputs": [],
   "source": [
    "numdim = len(x_train[0])"
   ]
  },
  {
   "cell_type": "code",
   "execution_count": 100,
   "metadata": {
    "id": "GtNgr9fhZ9Lm"
   },
   "outputs": [],
   "source": [
    "qc_map = {}  \n",
    "# x_train内のindex:対応するQuantumCircuitオブジェクト(ただしU(x)のみ保存している点がqiskitと違う)\n",
    "#これはdepthやnqubitを変えるたびに初期化する\n",
    "# テストデータに関しては1回ずつしか呼び出されないから特に保存しない"
   ]
  },
  {
   "cell_type": "code",
   "execution_count": 101,
   "metadata": {},
   "outputs": [],
   "source": [
    "# ここでハミルトニアンを含むゲートを作る\n",
    "time_step = 0.77  ## ランダムハミルトニアンによる時間発展の経過時間\n",
    "I_mat = np.eye(2, dtype=complex)\n",
    "X_mat = X(0).get_matrix()\n",
    "Z_mat = Z(0).get_matrix()\n",
    "\n",
    "## fullsizeのgateをつくる関数.\n",
    "def make_fullgate(list_SiteAndOperator, nqubit):\n",
    "    '''\n",
    "    list_SiteAndOperator = [ [i_0, O_0], [i_1, O_1], ...] を受け取り,\n",
    "    関係ないqubitにIdentityを挿入して\n",
    "    I(0) * ... * O_0(i_0) * ... * O_1(i_1) ...\n",
    "    という(2**nqubit, 2**nqubit)行列をつくる.\n",
    "    '''\n",
    "    list_Site = [SiteAndOperator[0] for SiteAndOperator in list_SiteAndOperator]\n",
    "    list_SingleGates = [] ## 1-qubit gateを並べてnp.kronでreduceする\n",
    "    cnt = 0\n",
    "    for i in range(nqubit):\n",
    "        if (i in list_Site):\n",
    "            list_SingleGates.append( list_SiteAndOperator[cnt][1] )\n",
    "            cnt += 1\n",
    "        else: ## 何もないsiteはidentity\n",
    "            list_SingleGates.append(I_mat)\n",
    "\n",
    "    return reduce(np.kron, list_SingleGates)\n",
    "\n",
    "#### ランダム磁場・ランダム結合イジングハミルトニアンをつくって時間発展演算子をつくる\n",
    "ham = np.zeros((2**nqubit,2**nqubit), dtype = complex)\n",
    "for i in range(nqubit): ## i runs 0 to nqubit-1\n",
    "    Jx = -1. + 2.*np.random.rand() ## -1~1の乱数\n",
    "    ham += Jx * make_fullgate( [ [i, X_mat] ], nqubit)\n",
    "    for j in range(i+1, nqubit):\n",
    "        J_ij = -1. + 2.*np.random.rand()\n",
    "        ham += J_ij * make_fullgate ([ [i, Z_mat], [j, Z_mat]], nqubit)\n",
    "\n",
    "## 対角化して時間発展演算子をつくる. H*P = P*D <-> H = P*D*P^dagger\n",
    "diag, eigen_vecs = np.linalg.eigh(ham)\n",
    "time_evol_op = np.dot(np.dot(eigen_vecs, np.diag(np.exp(-1j*time_step*diag))), eigen_vecs.T.conj()) # e^-iHT\n",
    "\n",
    "time_evol_gate = DenseMatrix([i for i in range(nqubit)], time_evol_op)"
   ]
  },
  {
   "cell_type": "code",
   "execution_count": 102,
   "metadata": {
    "executionInfo": {
     "elapsed": 829,
     "status": "ok",
     "timestamp": 1602396218788,
     "user": {
      "displayName": "小林将大",
      "photoUrl": "",
      "userId": "09749743800546995434"
     },
     "user_tz": -540
    },
    "id": "9O4hhce0epGs"
   },
   "outputs": [],
   "source": [
    "def U_in(x):    #入力xをエンコードするゲートが付いた回路（QuantumCircuit）を返す\n",
    "    # 入力が1次元か多次元化に応じて少しコードを変える\n",
    "    U = QuantumCircuit(nqubit)\n",
    "    for i in range(nqubit):\n",
    "        angle_y = np.arcsin(x[i%numdim])\n",
    "        angle_z = np.arccos(x[i%numdim]**2)\n",
    "        U.add_RY_gate(i,angle_y)\n",
    "        U.add_RZ_gate(i,angle_z)\n",
    "    \n",
    "    return U\n",
    "# 入力次元が1の場合でもリストで渡す必要がある"
   ]
  },
  {
   "cell_type": "code",
   "execution_count": 103,
   "metadata": {},
   "outputs": [],
   "source": [
    "def createInitialAnsatz(depth):  # ansatzに相当する部分のオブジェクトを作る、これはグローバル変数として1つのみ作る\n",
    "    U = ParametricQuantumCircuit(nqubit)\n",
    "    for d in range(depth):\n",
    "        U.add_gate(time_evol_gate)  # ハミルトニアンを含むゲートの追加\n",
    "        for i in range(nqubit):\n",
    "            U.add_parametric_RX_gate(i, 2*np.pi*np.random.rand())\n",
    "            U.add_parametric_RZ_gate(i, 2*np.pi*np.random.rand())\n",
    "            U.add_parametric_RX_gate(i, 2*np.pi*np.random.rand())\n",
    "        \n",
    "    return U"
   ]
  },
  {
   "cell_type": "code",
   "execution_count": 104,
   "metadata": {
    "executionInfo": {
     "elapsed": 817,
     "status": "ok",
     "timestamp": 1602396221617,
     "user": {
      "displayName": "小林将大",
      "photoUrl": "",
      "userId": "09749743800546995434"
     },
     "user_tz": -540
    },
    "id": "fyt7fiV0ffOJ"
   },
   "outputs": [],
   "source": [
    "def getoutput(x,init_par):   #入力x(リスト)、出力yの予測値\n",
    "    # 入力が1次元なら(x,), 多次元ならtuple(x)とする\n",
    "    tupled_x = tuple(x)\n",
    "    if tupled_x in qc_map:\n",
    "        U_In = qc_map[tupled_x]\n",
    "    else:\n",
    "        U_In = U_in(x)\n",
    "        qc_map[tupled_x] = U_In\n",
    "    for i in range(len(init_par)):  # まずここで回路内のパラメータを更新\n",
    "        U_out.set_parameter(i, init_par[i])\n",
    "        \n",
    "    state = QuantumState(nqubit)\n",
    "    state.set_zero_state()\n",
    "    \n",
    "    U_In.update_quantum_state(state)\n",
    "    \n",
    "    U_out.update_quantum_state(state)\n",
    "    res = [o.get_expectation_value(state) for o in obs]  # [<Z0>,<Z1>...]のリスト\n",
    "    return np.array(res)"
   ]
  },
  {
   "cell_type": "code",
   "execution_count": 105,
   "metadata": {},
   "outputs": [],
   "source": [
    "def softmax(x):  #xはndarrayじゃなきゃだめ\n",
    "    max_x = np.max(x)\n",
    "    exp_x = np.exp(x-max_x)\n",
    "    return exp_x / np.sum(exp_x)"
   ]
  },
  {
   "cell_type": "code",
   "execution_count": 106,
   "metadata": {
    "executionInfo": {
     "elapsed": 824,
     "status": "ok",
     "timestamp": 1602396223242,
     "user": {
      "displayName": "小林将大",
      "photoUrl": "",
      "userId": "09749743800546995434"
     },
     "user_tz": -540
    },
    "id": "XI_LF7MChCo4"
   },
   "outputs": [],
   "source": [
    "def cost_func_helper(x,y,par):\n",
    "    outputs = getoutput(x,par)  # 期待値のリスト\n",
    "    noutputs = softmax(outputs) # それにソフトマックス関数をかけた後のリスト\n",
    "    return -np.log(noutputs[y])"
   ]
  },
  {
   "cell_type": "code",
   "execution_count": 107,
   "metadata": {
    "executionInfo": {
     "elapsed": 497,
     "status": "ok",
     "timestamp": 1602396224339,
     "user": {
      "displayName": "小林将大",
      "photoUrl": "",
      "userId": "09749743800546995434"
     },
     "user_tz": -540
    },
    "id": "ANArXUakhgnJ"
   },
   "outputs": [],
   "source": [
    "def cost_func(par):\n",
    "    res = 0.\n",
    "    for x,y in zip(x_train,y_train):\n",
    "        res += cost_func_helper(x,y,par)\n",
    "    return res"
   ]
  },
  {
   "cell_type": "code",
   "execution_count": 108,
   "metadata": {
    "executionInfo": {
     "elapsed": 505,
     "status": "ok",
     "timestamp": 1602396225698,
     "user": {
      "displayName": "小林将大",
      "photoUrl": "",
      "userId": "09749743800546995434"
     },
     "user_tz": -540
    },
    "id": "ZLhVqTHPpgrc"
   },
   "outputs": [],
   "source": [
    "def gene_error(par):\n",
    "    # 現在のパラメータ値がparの時のテストデータに対するコスト関数の値を返す\n",
    "    res = 0.\n",
    "    for x,y in zip(x_test,y_test):\n",
    "        res += cost_func_helper(x,y,par)\n",
    "    return res"
   ]
  },
  {
   "cell_type": "code",
   "execution_count": 109,
   "metadata": {},
   "outputs": [],
   "source": [
    "def deriv_func(par):\n",
    "    res = []\n",
    "    n = len(par)\n",
    "    data = it.next()  # このデータだけを使って勾配を求める\n",
    "    numdata = len(data)  # バッチサイズと同じ\n",
    "    \n",
    "    for i in range(n):\n",
    "        temp = 0.\n",
    "        for j in range(numdata):\n",
    "            x,y = data[j][0],data[j][1]\n",
    "            grads = compute_gradient1(x,par,i)\n",
    "            temp += (sum(grads) - grads[y])\n",
    "        res.append(temp)\n",
    "    res = np.array(res)\n",
    "    return res"
   ]
  },
  {
   "cell_type": "code",
   "execution_count": 110,
   "metadata": {
    "executionInfo": {
     "elapsed": 777,
     "status": "ok",
     "timestamp": 1602397995787,
     "user": {
      "displayName": "小林将大",
      "photoUrl": "",
      "userId": "09749743800546995434"
     },
     "user_tz": -540
    },
    "id": "7EOpqc5pW6D2"
   },
   "outputs": [],
   "source": [
    "def compute_gradient1(x,par,i):\n",
    "    par[i] += np.pi/2.\n",
    "    b_plus = getoutput(x,par)\n",
    "    par[i] -= np.pi/2.\n",
    "    par[i] -= np.pi/2.\n",
    "    b_minus = getoutput(x,par)\n",
    "    par[i] += np.pi/2.\n",
    "    return (b_plus - b_minus)/2."
   ]
  },
  {
   "cell_type": "code",
   "execution_count": 111,
   "metadata": {},
   "outputs": [],
   "source": [
    "class Iterator:\n",
    "    def __init__(self,x,y,batch_size):\n",
    "        self.x = x_train   # 訓練データの入力、ndarray\n",
    "        self.y = y_train   # 訓練データの出力、ddarray\n",
    "        self.batch_size = batch_size  # バッチサイズ(1以上)\n",
    "        self.index = 0  # データ内のどのindexを見ているかを保持する\n",
    "        self.indices = list(range(len(x_train)))  # この配列を適宜シャッフルする\n",
    "        \n",
    "    def next(self):   # バッチサイズ分のデータをリストに入れて変えす、途中でデータを見終わったらシャッフルする\n",
    "        res = []\n",
    "        for _ in range(self.batch_size):\n",
    "            nx = self.x[self.indices[self.index]]\n",
    "            ny = self.y[self.indices[self.index]]\n",
    "            res.append((nx,ny))\n",
    "            self.index += 1\n",
    "            if self.index == len(self.x):\n",
    "                self.index = 0\n",
    "                np.random.shuffle(self.indices)\n",
    "        res = np.array(res)\n",
    "        return res"
   ]
  },
  {
   "cell_type": "code",
   "execution_count": 112,
   "metadata": {
    "id": "LfLqDo8YmV7R"
   },
   "outputs": [],
   "source": [
    "# ここから学習"
   ]
  },
  {
   "cell_type": "code",
   "execution_count": 113,
   "metadata": {},
   "outputs": [],
   "source": [
    "U_out = createInitialAnsatz(depth)  # これもグローバルに1つのみ\n",
    "parameter_count = U_out.get_parameter_count()\n",
    "init_par = [U_out.get_parameter(i) for i in range(parameter_count)]  # これが初期パラメータ値を持ったリスト"
   ]
  },
  {
   "cell_type": "code",
   "execution_count": 114,
   "metadata": {},
   "outputs": [],
   "source": [
    "it = Iterator(x = x_train,y = y_train,batch_size = 30)"
   ]
  },
  {
   "cell_type": "code",
   "execution_count": 115,
   "metadata": {},
   "outputs": [
    {
     "name": "stdout",
     "output_type": "stream",
     "text": [
      "[(34.91990410800374, 15.719392647903002)]\n",
      "398.59374594688416\n"
     ]
    }
   ],
   "source": [
    "start = time.time()\n",
    "\n",
    "result = minimize(fun = cost_func,x0 = init_par,method = \"cg\",jac = deriv_func)  # (最適パラメータ、その時のコスト関数値、イテレーション数)を返す\n",
    "par = result.x\n",
    "d[depth] = d.get(depth,[]) + [(cost_func(par),gene_error(par))]  # (最適パラメータ、その時のコスト関数値、その時のテストデータに対するコスト関数値)を保存\n",
    "\n",
    "process_time = time.time() - start\n",
    "\n",
    "print(d[depth])\n",
    "print(process_time)"
   ]
  },
  {
   "cell_type": "code",
   "execution_count": null,
   "metadata": {},
   "outputs": [],
   "source": [
    "# ここから結果の解釈(結果の図示や情報量の計算を行う)"
   ]
  },
  {
   "cell_type": "code",
   "execution_count": 41,
   "metadata": {},
   "outputs": [],
   "source": [
    "def predict(x,par):   #入力x(2次元のみ)、最適化したパラメータ、出力yの予測クラスラベル\n",
    "    tupled_x = tuple(x)\n",
    "    if tupled_x in qc_map:\n",
    "        U_In = qc_map[tupled_x]\n",
    "    else:\n",
    "        U_In = U_in(x)\n",
    "        qc_map[tupled_x] = U_In\n",
    "    for i in range(len(init_par)):  # まずここで回路内のパラメータを更新\n",
    "        U_out.set_parameter(i, par[i])\n",
    "        \n",
    "    state = QuantumState(nqubit)\n",
    "    state.set_zero_state()\n",
    "    \n",
    "    U_In.update_quantum_state(state)\n",
    "    \n",
    "    U_out.update_quantum_state(state)\n",
    "    res = [o.get_expectation_value(state) for o in obs]  # [<Z0>,<Z1>...]のリスト\n",
    "    res = np.array(res)\n",
    "    res = softmax(res)\n",
    "    res = list(res)\n",
    "    return res.index(max(res))   #res[i] = <Z_i>にソフトマックス関数を掛けた値(iは上位i番目のqubitということを表す)"
   ]
  },
  {
   "cell_type": "code",
   "execution_count": 42,
   "metadata": {},
   "outputs": [],
   "source": [
    "# 2次元の時に結果を図示できる、訓練データ用\n",
    "def plot_decision_regions(par):  \n",
    "    x1_min,x1_max = x_train[:,0].min(),x_train[:,0].max()  # ここを[-1,1]の範囲に収めないとnp.arcsin,np.arccosがnanとなりエラーになる\n",
    "    x2_min,x2_max = x_train[:,1].min(),x_train[:,1].max()\n",
    "    xx1,xx2 = np.meshgrid(np.arange(x1_min,x1_max,0.08),\n",
    "                         np.arange(x2_min,x2_max,0.08))\n",
    "    points = np.array([xx1.ravel(),xx2.ravel()]).T\n",
    "    z = []\n",
    "    for i,j in points:\n",
    "        z.append(predict([i,j],par))\n",
    "    z = np.array(z)\n",
    "    z = z.reshape(xx1.shape)\n",
    "    \n",
    "    plt.contourf(xx1,xx2,z,alpha = 0.3)\n",
    "    plt.xlim(-1.3,1.3)\n",
    "    plt.ylim(-1.3,1.3)\n",
    "    \n",
    "    for i in range(len(x_train)):\n",
    "        if y_train[i]== 0:\n",
    "            plt.scatter(x_train[i][0],x_train[i][1],color = \"red\")\n",
    "        else:\n",
    "            plt.scatter(x_train[i][0],x_train[i][1],color = \"blue\") "
   ]
  },
  {
   "cell_type": "code",
   "execution_count": 43,
   "metadata": {},
   "outputs": [],
   "source": [
    "# 2次元の時に結果を図示できる、テストデータ用\n",
    "def plot_decision_regions2(par):\n",
    "    x1_min,x1_max = x_train[:,0].min(),x_train[:,0].max()\n",
    "    x2_min,x2_max = x_train[:,1].min(),x_train[:,1].max()\n",
    "    xx1,xx2 = np.meshgrid(np.arange(x1_min,x1_max,0.08),\n",
    "                         np.arange(x2_min,x2_max,0.08))\n",
    "    points = np.array([xx1.ravel(),xx2.ravel()]).T\n",
    "    z = []\n",
    "    for i,j in points:\n",
    "        z.append(predict([i,j],par))\n",
    "    z = np.array(z)\n",
    "    z = z.reshape(xx1.shape)\n",
    "    \n",
    "    plt.contourf(xx1,xx2,z,alpha = 0.3)\n",
    "    plt.xlim(-1.3,1.3)\n",
    "    plt.ylim(-1.3,1.3)\n",
    "    \n",
    "    for i in range(len(x_test)):\n",
    "        if y_test[i]== 0:\n",
    "            plt.scatter(x_test[i][0],x_test[i][1],color = \"red\")\n",
    "        else:\n",
    "            plt.scatter(x_test[i][0],x_test[i][1],color = \"blue\") "
   ]
  },
  {
   "cell_type": "code",
   "execution_count": 116,
   "metadata": {},
   "outputs": [
    {
     "data": {
      "image/png": "[encoded data removed]",
      "text/plain": [
       "<Figure size 432x288 with 1 Axes>"
      ]
     },
     "metadata": {
      "needs_background": "light"
     },
     "output_type": "display_data"
    }
   ],
   "source": [
    "plot_decision_regions(par)"
   ]
  },
  {
   "cell_type": "code",
   "execution_count": null,
   "metadata": {},
   "outputs": [],
   "source": []
  }
 ],
 "metadata": {
  "colab": {
   "authorship_tag": "ABX9TyMl1MUtzfu4Wgd/UNgBIZX+",
   "collapsed_sections": [],
   "name": "QCLregression.ipynb",
   "provenance": []
  },
  "kernelspec": {
   "display_name": "Python 3",
   "language": "python",
   "name": "python3"
  },
  "language_info": {
   "codemirror_mode": {
    "name": "ipython",
    "version": 3
   },
   "file_extension": ".py",
   "mimetype": "text/x-python",
   "name": "python",
   "nbconvert_exporter": "python",
   "pygments_lexer": "ipython3",
   "version": "3.7.7"
  }
 },
 "nbformat": 4,
 "nbformat_minor": 1
}
